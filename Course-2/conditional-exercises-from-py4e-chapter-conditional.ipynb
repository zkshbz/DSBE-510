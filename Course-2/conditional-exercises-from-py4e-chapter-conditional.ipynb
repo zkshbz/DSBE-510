{
 "cells": [
  {
   "cell_type": "markdown",
   "id": "0c763408",
   "metadata": {},
   "source": [
    "### Exercise 1: Rewrite your pay computation to give the employee 1.5 times the hourly rate for hours worked above 40 hours.\n",
    "\n"
   ]
  },
  {
   "cell_type": "code",
   "execution_count": 3,
   "id": "3aa30b2f",
   "metadata": {},
   "outputs": [
    {
     "name": "stdout",
     "output_type": "stream",
     "text": [
      "Enter Hours: 45\n",
      "Enter Rate: 10\n",
      "Pay: 475.0\n"
     ]
    }
   ],
   "source": [
    "workingHours = input('Enter Hours: ');\n",
    "hourRate = input('Enter Rate: ');\n",
    "\n",
    "hours = float(workingHours);\n",
    "rate = float(hourRate);\n",
    "\n",
    "totalRate = 0;\n",
    "\n",
    "overWorkingHour = 0;\n",
    "if(hours > 40):\n",
    "    overWorkingHour = hours - 40;\n",
    "\n",
    "result = (hours - overWorkingHour) * rate + overWorkingHour * rate * 1.5;\n",
    "print(f\"Pay: {result}\");"
   ]
  },
  {
   "cell_type": "markdown",
   "id": "6799c663",
   "metadata": {},
   "source": [
    "### Exercise 2: Rewrite your pay program using try and except so that your program handles non-numeric input gracefully by printing a message and exiting the program. The following shows two executions of the program:"
   ]
  },
  {
   "cell_type": "code",
   "execution_count": 6,
   "id": "05392d13",
   "metadata": {},
   "outputs": [
    {
     "name": "stdout",
     "output_type": "stream",
     "text": [
      "Enter Hours: forty\n",
      "Error, please enter numeric input\n"
     ]
    }
   ],
   "source": [
    "try:\n",
    "    workingHours = input('Enter Hours: ');\n",
    "    hours = float(workingHours);\n",
    "    \n",
    "    hourRate = input('Enter Rate: ');\n",
    "    rate = float(hourRate);\n",
    "    \n",
    "    totalRate = 0;\n",
    "    \n",
    "    overWorkingHour = 0;\n",
    "    if(hours > 40):\n",
    "        overWorkingHour = hours - 40;\n",
    "    \n",
    "    result = (hours - overWorkingHour) * rate + overWorkingHour * rate * 1.5;\n",
    "    print(f\"Pay: {result}\");\n",
    "except:\n",
    "    print(\"Error, please enter numeric input\");"
   ]
  },
  {
   "cell_type": "markdown",
   "id": "e71026a4",
   "metadata": {},
   "source": [
    "### Exercise 3: Write a program to prompt for a score between 0.0 and 1.0. If the score is out of range, print an error message. If the score is between 0.0 and 1.0, print a grade using the following table:"
   ]
  },
  {
   "cell_type": "markdown",
   "id": "0302e445",
   "metadata": {},
   "source": [
    "| Score | Grade |\n",
    "| --- | --- |\n",
    "| >= 0.9 | A |\n",
    "| >= 0.8 | B |\n",
    "| >= 0.7 | C |\n",
    "| >= 0.6 | D |\n",
    "| < 0.6 | F |"
   ]
  },
  {
   "cell_type": "code",
   "execution_count": 11,
   "id": "507f6511",
   "metadata": {},
   "outputs": [
    {
     "name": "stdout",
     "output_type": "stream",
     "text": [
      "Enter score:0.5\n",
      "F\n"
     ]
    }
   ],
   "source": [
    "try:\n",
    "    score = float(input('Enter score:'));\n",
    "    \n",
    "    if(score >= 0.0 and score <= 1.0):\n",
    "        if(score < 0.6):\n",
    "            print('F');\n",
    "        elif(score < 0.7):\n",
    "            print('D');\n",
    "        elif(score < 0.8):\n",
    "            print('C');\n",
    "        elif(score < 0.9):\n",
    "            print('B');\n",
    "        else:\n",
    "            print('A')\n",
    "    else:\n",
    "        print('Bad score')\n",
    "except:\n",
    "    print('Bad score')"
   ]
  }
 ],
 "metadata": {
  "kernelspec": {
   "display_name": "Python 3 (ipykernel)",
   "language": "python",
   "name": "python3"
  },
  "language_info": {
   "codemirror_mode": {
    "name": "ipython",
    "version": 3
   },
   "file_extension": ".py",
   "mimetype": "text/x-python",
   "name": "python",
   "nbconvert_exporter": "python",
   "pygments_lexer": "ipython3",
   "version": "3.9.12"
  }
 },
 "nbformat": 4,
 "nbformat_minor": 5
}
