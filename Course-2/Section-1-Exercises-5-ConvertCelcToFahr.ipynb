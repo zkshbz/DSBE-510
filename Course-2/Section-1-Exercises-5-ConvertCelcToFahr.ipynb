{
 "cells": [
  {
   "cell_type": "code",
   "execution_count": 8,
   "id": "1e5df9f9",
   "metadata": {},
   "outputs": [],
   "source": [
    "def Converter():\n",
    "  valCelcius = float(input(\"Ebnter Celcius Value: \"));\n",
    "  convertedValueToFah = (valCelcius*1.8)+32;\n",
    "  print(convertedValueToFah);"
   ]
  },
  {
   "cell_type": "code",
   "execution_count": 10,
   "id": "fd86e885",
   "metadata": {},
   "outputs": [
    {
     "name": "stdout",
     "output_type": "stream",
     "text": [
      "Ebnter Celcius Value: 24\n",
      "75.2\n"
     ]
    }
   ],
   "source": [
    "Converter()"
   ]
  },
  {
   "cell_type": "code",
   "execution_count": null,
   "id": "3abf86f6",
   "metadata": {},
   "outputs": [],
   "source": []
  }
 ],
 "metadata": {
  "kernelspec": {
   "display_name": "Python 3 (ipykernel)",
   "language": "python",
   "name": "python3"
  },
  "language_info": {
   "codemirror_mode": {
    "name": "ipython",
    "version": 3
   },
   "file_extension": ".py",
   "mimetype": "text/x-python",
   "name": "python",
   "nbconvert_exporter": "python",
   "pygments_lexer": "ipython3",
   "version": "3.9.12"
  }
 },
 "nbformat": 4,
 "nbformat_minor": 5
}
