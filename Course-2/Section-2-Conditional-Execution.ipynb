{
 "cells": [
  {
   "cell_type": "markdown",
   "id": "eccb90e4",
   "metadata": {},
   "source": [
    "# Conditional Execution (Chapter - 3)"
   ]
  },
  {
   "cell_type": "markdown",
   "id": "fbbbd333",
   "metadata": {},
   "source": [
    "## Boolean Expressions"
   ]
  },
  {
   "cell_type": "code",
   "execution_count": 1,
   "id": "495a2b77",
   "metadata": {},
   "outputs": [
    {
     "data": {
      "text/plain": [
       "True"
      ]
     },
     "execution_count": 1,
     "metadata": {},
     "output_type": "execute_result"
    }
   ],
   "source": [
    "5 == 5"
   ]
  },
  {
   "cell_type": "code",
   "execution_count": 2,
   "id": "22bcdd79",
   "metadata": {},
   "outputs": [
    {
     "data": {
      "text/plain": [
       "bool"
      ]
     },
     "execution_count": 2,
     "metadata": {},
     "output_type": "execute_result"
    }
   ],
   "source": [
    "type(True)"
   ]
  },
  {
   "cell_type": "code",
   "execution_count": 3,
   "id": "2599cf63",
   "metadata": {},
   "outputs": [
    {
     "ename": "NameError",
     "evalue": "name 'true' is not defined",
     "output_type": "error",
     "traceback": [
      "\u001b[0;31m---------------------------------------------------------------------------\u001b[0m",
      "\u001b[0;31mNameError\u001b[0m                                 Traceback (most recent call last)",
      "Input \u001b[0;32mIn [3]\u001b[0m, in \u001b[0;36m<cell line: 1>\u001b[0;34m()\u001b[0m\n\u001b[0;32m----> 1\u001b[0m \u001b[38;5;28mtype\u001b[39m(\u001b[43mtrue\u001b[49m)\n",
      "\u001b[0;31mNameError\u001b[0m: name 'true' is not defined"
     ]
    }
   ],
   "source": [
    "type(true) #python is a case sensitive programming language, so bool types are True, False. Not true, false"
   ]
  },
  {
   "cell_type": "markdown",
   "id": "4b962e21",
   "metadata": {},
   "source": [
    "## Logical Operator"
   ]
  },
  {
   "cell_type": "code",
   "execution_count": 5,
   "id": "89a134e8",
   "metadata": {},
   "outputs": [
    {
     "data": {
      "text/plain": [
       "False"
      ]
     },
     "execution_count": 5,
     "metadata": {},
     "output_type": "execute_result"
    }
   ],
   "source": [
    "True and False #and, or and not => three types of logical operator"
   ]
  },
  {
   "cell_type": "code",
   "execution_count": 6,
   "id": "95a007f9",
   "metadata": {
    "scrolled": true
   },
   "outputs": [
    {
     "data": {
      "text/plain": [
       "True"
      ]
     },
     "execution_count": 6,
     "metadata": {},
     "output_type": "execute_result"
    }
   ],
   "source": [
    "not (True and False) or False"
   ]
  },
  {
   "cell_type": "markdown",
   "id": "56182b5b",
   "metadata": {},
   "source": [
    "## Conditional Execution"
   ]
  },
  {
   "cell_type": "code",
   "execution_count": 9,
   "id": "c1917186",
   "metadata": {},
   "outputs": [
    {
     "name": "stdout",
     "output_type": "stream",
     "text": [
      "Enter a positive integer value for x: -10\n",
      "-10 is a negative integer value\n"
     ]
    }
   ],
   "source": [
    "x = input('Enter a positive integer value for x: ')\n",
    "intX = int(x)\n",
    "if (intX < 0):\n",
    "    print(f\"{x} is a negative integer value\")"
   ]
  },
  {
   "cell_type": "code",
   "execution_count": 13,
   "id": "fa70bdae",
   "metadata": {},
   "outputs": [
    {
     "name": "stdout",
     "output_type": "stream",
     "text": [
      "Enter a positive value: 13\n",
      "13 is odd number\n"
     ]
    }
   ],
   "source": [
    "value = input('Enter a positive value: ');\n",
    "convertedValue = int(value);\n",
    "if(convertedValue % 2 == 0):\n",
    "    print(f\"{convertedValue} is even number\");\n",
    "else:\n",
    "    print(f\"{convertedValue} is odd number\");"
   ]
  },
  {
   "cell_type": "code",
   "execution_count": 17,
   "id": "43052ad9",
   "metadata": {},
   "outputs": [
    {
     "name": "stdout",
     "output_type": "stream",
     "text": [
      "Enter student grade between 0-10040\n",
      "Failed\n"
     ]
    }
   ],
   "source": [
    "grade = input('Enter student grade between 0-100');\n",
    "convertedGrade = int(grade);\n",
    "if convertedGrade < 45:\n",
    "    print(\"Failed\");\n",
    "elif convertedGrade < 70:\n",
    "    print(\"Conditionally Passed\");\n",
    "else:\n",
    "    print(\"Succeed\");"
   ]
  },
  {
   "cell_type": "code",
   "execution_count": 21,
   "id": "41051f9f",
   "metadata": {},
   "outputs": [
    {
     "name": "stdout",
     "output_type": "stream",
     "text": [
      "Enter student mid term exam grade: 65\n",
      "Enter student final exam grade: 55\n",
      "Conditionally passed\n"
     ]
    }
   ],
   "source": [
    "midTermExamGrade = int(input('Enter student mid term exam grade: '));\n",
    "finalExamGrade = int(input('Enter student final exam grade: '));\n",
    "if(midTermExamGrade < 50):\n",
    "    print('Failed');\n",
    "elif(midTermExamGrade < 70):\n",
    "    if(finalExamGrade < 50):\n",
    "        print(\"Failed\");\n",
    "    elif(finalExamGrade < 70):\n",
    "        print(\"Conditionally passed\");\n",
    "    else:\n",
    "        print(\"Passed\");\n",
    "else:\n",
    "    print(\"Passed without considering final exam\");"
   ]
  },
  {
   "cell_type": "markdown",
   "id": "b8a38e2b",
   "metadata": {},
   "source": [
    "## Catching exceptions using try and except"
   ]
  },
  {
   "cell_type": "code",
   "execution_count": 22,
   "id": "9fb72db0",
   "metadata": {},
   "outputs": [
    {
     "name": "stdout",
     "output_type": "stream",
     "text": [
      "Enter a positive integer value for x: asdf\n"
     ]
    },
    {
     "ename": "ValueError",
     "evalue": "invalid literal for int() with base 10: 'asdf'",
     "output_type": "error",
     "traceback": [
      "\u001b[0;31m---------------------------------------------------------------------------\u001b[0m",
      "\u001b[0;31mValueError\u001b[0m                                Traceback (most recent call last)",
      "Input \u001b[0;32mIn [22]\u001b[0m, in \u001b[0;36m<cell line: 2>\u001b[0;34m()\u001b[0m\n\u001b[1;32m      1\u001b[0m x \u001b[38;5;241m=\u001b[39m \u001b[38;5;28minput\u001b[39m(\u001b[38;5;124m'\u001b[39m\u001b[38;5;124mEnter a positive integer value for x: \u001b[39m\u001b[38;5;124m'\u001b[39m)\n\u001b[0;32m----> 2\u001b[0m intX \u001b[38;5;241m=\u001b[39m \u001b[38;5;28;43mint\u001b[39;49m\u001b[43m(\u001b[49m\u001b[43mx\u001b[49m\u001b[43m)\u001b[49m;\n\u001b[1;32m      3\u001b[0m \u001b[38;5;28;01mif\u001b[39;00m (intX \u001b[38;5;241m<\u001b[39m \u001b[38;5;241m0\u001b[39m):\n\u001b[1;32m      4\u001b[0m     \u001b[38;5;28mprint\u001b[39m(\u001b[38;5;124mf\u001b[39m\u001b[38;5;124m\"\u001b[39m\u001b[38;5;132;01m{\u001b[39;00mx\u001b[38;5;132;01m}\u001b[39;00m\u001b[38;5;124m is a negative integer value\u001b[39m\u001b[38;5;124m\"\u001b[39m)\n",
      "\u001b[0;31mValueError\u001b[0m: invalid literal for int() with base 10: 'asdf'"
     ]
    }
   ],
   "source": [
    "x = input('Enter a positive integer value for x: ')\n",
    "intX = int(x);\n",
    "if (intX < 0):\n",
    "    print(f\"{x} is a negative integer value\");    "
   ]
  },
  {
   "cell_type": "markdown",
   "id": "841a6715",
   "metadata": {},
   "source": [
    "**Not:** Line 22 example, we wrote unsafe code because user can enter a value which would be not integer. As a result, our codes terminated with an exception. Prevent this station there are plenty type of way. Now, we use try and except keywords and blocks. "
   ]
  },
  {
   "cell_type": "code",
   "execution_count": 30,
   "id": "0f36b60c",
   "metadata": {},
   "outputs": [
    {
     "name": "stdout",
     "output_type": "stream",
     "text": [
      "Enter a positive integer value for x: 2,14\n",
      "Please enter integer value\n"
     ]
    }
   ],
   "source": [
    "try:\n",
    "    x = input('Enter a positive integer value for x: ');\n",
    "    intX = int(x); \n",
    "    if (intX < 0):\n",
    "        print(f\"{intX} is a negative integer value\");\n",
    "    else:\n",
    "        print(f\"{intX} is a positive integer value\")\n",
    "except:\n",
    "    print(\"Please enter integer value\");\n",
    "   "
   ]
  },
  {
   "cell_type": "markdown",
   "id": "534aa149",
   "metadata": {},
   "source": [
    "### Temprature Converter With Try-Catch"
   ]
  },
  {
   "cell_type": "code",
   "execution_count": 4,
   "id": "06131765",
   "metadata": {},
   "outputs": [
    {
     "name": "stdout",
     "output_type": "stream",
     "text": [
      "Enter fahrenheit value: asdf\n"
     ]
    },
    {
     "ename": "ValueError",
     "evalue": "could not convert string to float: 'asdf'",
     "output_type": "error",
     "traceback": [
      "\u001b[0;31m---------------------------------------------------------------------------\u001b[0m",
      "\u001b[0;31mValueError\u001b[0m                                Traceback (most recent call last)",
      "Input \u001b[0;32mIn [4]\u001b[0m, in \u001b[0;36m<cell line: 1>\u001b[0;34m()\u001b[0m\n\u001b[0;32m----> 1\u001b[0m fahrenheit \u001b[38;5;241m=\u001b[39m \u001b[38;5;28;43mfloat\u001b[39;49m\u001b[43m(\u001b[49m\u001b[38;5;28;43minput\u001b[39;49m\u001b[43m(\u001b[49m\u001b[38;5;124;43m'\u001b[39;49m\u001b[38;5;124;43mEnter fahrenheit value: \u001b[39;49m\u001b[38;5;124;43m'\u001b[39;49m\u001b[43m)\u001b[49m\u001b[43m)\u001b[49m;\n\u001b[1;32m      2\u001b[0m celcius \u001b[38;5;241m=\u001b[39m (fahrenheit \u001b[38;5;241m-\u001b[39m \u001b[38;5;241m32.0\u001b[39m) \u001b[38;5;241m*\u001b[39m \u001b[38;5;241m5.0\u001b[39m \u001b[38;5;241m/\u001b[39m \u001b[38;5;241m9.0\u001b[39m;\n\u001b[1;32m      3\u001b[0m \u001b[38;5;28mprint\u001b[39m(\u001b[38;5;124mf\u001b[39m\u001b[38;5;124m\"\u001b[39m\u001b[38;5;124mFahrenheit: \u001b[39m\u001b[38;5;132;01m{\u001b[39;00mfahrenheit\u001b[38;5;132;01m}\u001b[39;00m\u001b[38;5;124m value equals with celcius: \u001b[39m\u001b[38;5;132;01m{\u001b[39;00mcelcius\u001b[38;5;132;01m}\u001b[39;00m\u001b[38;5;124m\"\u001b[39m)\n",
      "\u001b[0;31mValueError\u001b[0m: could not convert string to float: 'asdf'"
     ]
    }
   ],
   "source": [
    "fahrenheit = float(input('Enter fahrenheit value: '));\n",
    "celcius = (fahrenheit - 32.0) * 5.0 / 9.0;\n",
    "print(f\"Fahrenheit: {fahrenheit} value equals with celcius: {celcius}\");"
   ]
  },
  {
   "cell_type": "code",
   "execution_count": 7,
   "id": "e1aaee62",
   "metadata": {},
   "outputs": [
    {
     "name": "stdout",
     "output_type": "stream",
     "text": [
      "Enter fahrenheit value: 100\n",
      "Fahrenheit: 100.0 value equals with celcius: 37.77777777777778\n"
     ]
    }
   ],
   "source": [
    "try:\n",
    "    fahrenheit = float(input('Enter fahrenheit value: '));\n",
    "    celcius = (fahrenheit - 32.0) * 5.0 / 9.0;\n",
    "    print(f\"Fahrenheit: {fahrenheit} value equals with celcius: {celcius}\");\n",
    "except:    \n",
    "    print(\"Please enter convertable value to float\");"
   ]
  }
 ],
 "metadata": {
  "kernelspec": {
   "display_name": "Python 3 (ipykernel)",
   "language": "python",
   "name": "python3"
  },
  "language_info": {
   "codemirror_mode": {
    "name": "ipython",
    "version": 3
   },
   "file_extension": ".py",
   "mimetype": "text/x-python",
   "name": "python",
   "nbconvert_exporter": "python",
   "pygments_lexer": "ipython3",
   "version": "3.9.12"
  }
 },
 "nbformat": 4,
 "nbformat_minor": 5
}
