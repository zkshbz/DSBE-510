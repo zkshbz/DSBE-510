{
 "cells": [
  {
   "cell_type": "code",
   "execution_count": 1,
   "id": "a1036b6d",
   "metadata": {},
   "outputs": [
    {
     "name": "stdout",
     "output_type": "stream",
     "text": [
      "Hello Friends\n"
     ]
    }
   ],
   "source": [
    "print('Hello Friends')"
   ]
  },
  {
   "cell_type": "markdown",
   "id": "7467a482",
   "metadata": {},
   "source": [
    "Writing clean code is important to increase readability and maintability because of that spacing in after and before equality symbol is important"
   ]
  },
  {
   "cell_type": "code",
   "execution_count": 12,
   "id": "1baab75c",
   "metadata": {
    "scrolled": true
   },
   "outputs": [
    {
     "name": "stdout",
     "output_type": "stream",
     "text": [
      "2\n"
     ]
    }
   ],
   "source": [
    "a=2\n",
    "print(a)"
   ]
  },
  {
   "cell_type": "code",
   "execution_count": 2,
   "id": "c757ee46",
   "metadata": {
    "scrolled": true
   },
   "outputs": [
    {
     "name": "stdout",
     "output_type": "stream",
     "text": [
      "2\n"
     ]
    }
   ],
   "source": [
    "a = 2\n",
    "print(a)"
   ]
  },
  {
   "cell_type": "code",
   "execution_count": 16,
   "id": "a97bf454",
   "metadata": {
    "scrolled": true
   },
   "outputs": [
    {
     "name": "stdout",
     "output_type": "stream",
     "text": [
      "Help on built-in function print in module builtins:\n",
      "\n",
      "print(...)\n",
      "    print(value, ..., sep=' ', end='\\n', file=sys.stdout, flush=False)\n",
      "    \n",
      "    Prints the values to a stream, or to sys.stdout by default.\n",
      "    Optional keyword arguments:\n",
      "    file:  a file-like object (stream); defaults to the current sys.stdout.\n",
      "    sep:   string inserted between values, default a space.\n",
      "    end:   string appended after the last value, default a newline.\n",
      "    flush: whether to forcibly flush the stream.\n",
      "\n"
     ]
    }
   ],
   "source": [
    "help(print)"
   ]
  },
  {
   "cell_type": "code",
   "execution_count": 17,
   "id": "177a8018",
   "metadata": {},
   "outputs": [
    {
     "name": "stdout",
     "output_type": "stream",
     "text": [
      "44\n"
     ]
    }
   ],
   "source": [
    "x = 43\n",
    "x = x + 1\n",
    "print(x)"
   ]
  },
  {
   "cell_type": "code",
   "execution_count": 19,
   "id": "ce430725",
   "metadata": {},
   "outputs": [],
   "source": [
    "a = 34\n",
    "b = 'Python'\n",
    "c = 3.4"
   ]
  },
  {
   "cell_type": "code",
   "execution_count": 20,
   "id": "d3c4cd7f",
   "metadata": {},
   "outputs": [
    {
     "name": "stdout",
     "output_type": "stream",
     "text": [
      "34\n"
     ]
    }
   ],
   "source": [
    "print(a)"
   ]
  },
  {
   "cell_type": "code",
   "execution_count": 21,
   "id": "58235b45",
   "metadata": {},
   "outputs": [
    {
     "name": "stdout",
     "output_type": "stream",
     "text": [
      "Python\n"
     ]
    }
   ],
   "source": [
    "print(b)"
   ]
  },
  {
   "cell_type": "code",
   "execution_count": 23,
   "id": "3340dbb7",
   "metadata": {},
   "outputs": [
    {
     "name": "stdout",
     "output_type": "stream",
     "text": [
      "3.4\n"
     ]
    }
   ],
   "source": [
    "print(c)"
   ]
  },
  {
   "cell_type": "code",
   "execution_count": 24,
   "id": "dfa0804e",
   "metadata": {},
   "outputs": [
    {
     "name": "stdout",
     "output_type": "stream",
     "text": [
      "34 Python 3.4\n"
     ]
    }
   ],
   "source": [
    "print(a,b,c)"
   ]
  },
  {
   "cell_type": "code",
   "execution_count": 25,
   "id": "f239cf08",
   "metadata": {},
   "outputs": [
    {
     "data": {
      "text/plain": [
       "int"
      ]
     },
     "execution_count": 25,
     "metadata": {},
     "output_type": "execute_result"
    }
   ],
   "source": [
    "type(a)"
   ]
  },
  {
   "cell_type": "code",
   "execution_count": 26,
   "id": "17960416",
   "metadata": {},
   "outputs": [
    {
     "data": {
      "text/plain": [
       "str"
      ]
     },
     "execution_count": 26,
     "metadata": {},
     "output_type": "execute_result"
    }
   ],
   "source": [
    "type(b)"
   ]
  },
  {
   "cell_type": "code",
   "execution_count": 27,
   "id": "f9720af2",
   "metadata": {},
   "outputs": [
    {
     "data": {
      "text/plain": [
       "float"
      ]
     },
     "execution_count": 27,
     "metadata": {},
     "output_type": "execute_result"
    }
   ],
   "source": [
    "type(c)"
   ]
  },
  {
   "cell_type": "markdown",
   "id": "518ca62b",
   "metadata": {},
   "source": [
    "Python is a case sensitive languae"
   ]
  },
  {
   "cell_type": "code",
   "execution_count": 28,
   "id": "d5a0979f",
   "metadata": {
    "scrolled": true
   },
   "outputs": [
    {
     "ename": "NameError",
     "evalue": "name 'true' is not defined",
     "output_type": "error",
     "traceback": [
      "\u001b[0;31m---------------------------------------------------------------------------\u001b[0m",
      "\u001b[0;31mNameError\u001b[0m                                 Traceback (most recent call last)",
      "Input \u001b[0;32mIn [28]\u001b[0m, in \u001b[0;36m<cell line: 1>\u001b[0;34m()\u001b[0m\n\u001b[0;32m----> 1\u001b[0m d \u001b[38;5;241m=\u001b[39m \u001b[43mtrue\u001b[49m\n",
      "\u001b[0;31mNameError\u001b[0m: name 'true' is not defined"
     ]
    }
   ],
   "source": [
    "d = true"
   ]
  },
  {
   "cell_type": "code",
   "execution_count": 29,
   "id": "65f78c8f",
   "metadata": {},
   "outputs": [],
   "source": [
    "d = True"
   ]
  },
  {
   "cell_type": "code",
   "execution_count": 30,
   "id": "2bad6799",
   "metadata": {},
   "outputs": [
    {
     "data": {
      "text/plain": [
       "bool"
      ]
     },
     "execution_count": 30,
     "metadata": {},
     "output_type": "execute_result"
    }
   ],
   "source": [
    "type(d)"
   ]
  },
  {
   "cell_type": "code",
   "execution_count": 32,
   "id": "11bccde9",
   "metadata": {},
   "outputs": [
    {
     "name": "stdout",
     "output_type": "stream",
     "text": [
      "5 55\n"
     ]
    }
   ],
   "source": [
    "a = 5;\n",
    "A = 55;\n",
    "print(a,A)"
   ]
  },
  {
   "cell_type": "code",
   "execution_count": null,
   "id": "e66f6c91",
   "metadata": {},
   "outputs": [],
   "source": [
    "A = 55;\n",
    "print()"
   ]
  },
  {
   "cell_type": "markdown",
   "id": "66434f2b",
   "metadata": {},
   "source": [
    "See active variable use who"
   ]
  },
  {
   "cell_type": "code",
   "execution_count": 33,
   "id": "49e6ba1b",
   "metadata": {},
   "outputs": [
    {
     "name": "stdout",
     "output_type": "stream",
     "text": [
      "A\t a\t b\t c\t d\t x\t \n"
     ]
    }
   ],
   "source": [
    "who"
   ]
  },
  {
   "cell_type": "markdown",
   "id": "848569a4",
   "metadata": {},
   "source": [
    "See more detailed active variables"
   ]
  },
  {
   "cell_type": "code",
   "execution_count": 34,
   "id": "75349059",
   "metadata": {},
   "outputs": [
    {
     "name": "stdout",
     "output_type": "stream",
     "text": [
      "Variable   Type     Data/Info\n",
      "-----------------------------\n",
      "A          int      55\n",
      "a          int      5\n",
      "b          str      Python\n",
      "c          float    3.4\n",
      "d          bool     True\n",
      "x          int      44\n"
     ]
    }
   ],
   "source": [
    "whos"
   ]
  },
  {
   "cell_type": "markdown",
   "id": "04048f20",
   "metadata": {},
   "source": [
    "Variable names cannot start with number or special characters. Or you cannot use reversed keywords such as 'class'. If a variable name which is colored with bold and green, meaning of this is keyword"
   ]
  },
  {
   "cell_type": "code",
   "execution_count": 35,
   "id": "93e8407e",
   "metadata": {},
   "outputs": [
    {
     "ename": "SyntaxError",
     "evalue": "invalid syntax (4223410424.py, line 1)",
     "output_type": "error",
     "traceback": [
      "\u001b[0;36m  Input \u001b[0;32mIn [35]\u001b[0;36m\u001b[0m\n\u001b[0;31m    5num\u001b[0m\n\u001b[0m     ^\u001b[0m\n\u001b[0;31mSyntaxError\u001b[0m\u001b[0;31m:\u001b[0m invalid syntax\n"
     ]
    }
   ],
   "source": [
    "5num"
   ]
  },
  {
   "cell_type": "code",
   "execution_count": 36,
   "id": "aa1f4973",
   "metadata": {
    "scrolled": true
   },
   "outputs": [
    {
     "ename": "SyntaxError",
     "evalue": "invalid syntax (3904948532.py, line 1)",
     "output_type": "error",
     "traceback": [
      "\u001b[0;36m  Input \u001b[0;32mIn [36]\u001b[0;36m\u001b[0m\n\u001b[0;31m    class = x\u001b[0m\n\u001b[0m          ^\u001b[0m\n\u001b[0;31mSyntaxError\u001b[0m\u001b[0;31m:\u001b[0m invalid syntax\n"
     ]
    }
   ],
   "source": [
    "class = x"
   ]
  },
  {
   "cell_type": "code",
   "execution_count": 52,
   "id": "abb0ed2a",
   "metadata": {},
   "outputs": [
    {
     "ename": "SyntaxError",
     "evalue": "leading zeros in decimal integer literals are not permitted; use an 0o prefix for octal integers (4214819459.py, line 1)",
     "output_type": "error",
     "traceback": [
      "\u001b[0;36m  Input \u001b[0;32mIn [52]\u001b[0;36m\u001b[0m\n\u001b[0;31m    variableNotStartWithZero = 08\u001b[0m\n\u001b[0m                                ^\u001b[0m\n\u001b[0;31mSyntaxError\u001b[0m\u001b[0;31m:\u001b[0m leading zeros in decimal integer literals are not permitted; use an 0o prefix for octal integers\n"
     ]
    }
   ],
   "source": [
    "variableNotStartWithZero = 08"
   ]
  },
  {
   "cell_type": "markdown",
   "id": "f3670840",
   "metadata": {},
   "source": [
    "division in python 3.x. If we cannot specify, divide operator returns floating point. // double dividing meaning is floor. "
   ]
  },
  {
   "cell_type": "code",
   "execution_count": 37,
   "id": "187d4c7c",
   "metadata": {},
   "outputs": [
    {
     "name": "stdout",
     "output_type": "stream",
     "text": [
      "1.0169491525423728\n"
     ]
    }
   ],
   "source": [
    "x = 60;\n",
    "print(60/59)"
   ]
  },
  {
   "cell_type": "code",
   "execution_count": 41,
   "id": "11210c82",
   "metadata": {},
   "outputs": [
    {
     "name": "stdout",
     "output_type": "stream",
     "text": [
      "1\n",
      "1\n"
     ]
    }
   ],
   "source": [
    "print(int(60/59))\n",
    "print(60//59)"
   ]
  },
  {
   "cell_type": "markdown",
   "id": "ecd87044",
   "metadata": {},
   "source": [
    "__expression__ meaning is that if there is not assignment operation. For example x + 17"
   ]
  },
  {
   "cell_type": "markdown",
   "id": "ffe44077",
   "metadata": {},
   "source": [
    "reminder operations % module operation"
   ]
  },
  {
   "cell_type": "code",
   "execution_count": 44,
   "id": "49d38666",
   "metadata": {},
   "outputs": [
    {
     "name": "stdout",
     "output_type": "stream",
     "text": [
      "2\n"
     ]
    }
   ],
   "source": [
    "reminder = 27 % 5;\n",
    "print(reminder)"
   ]
  },
  {
   "cell_type": "markdown",
   "id": "6f92b4ad",
   "metadata": {},
   "source": [
    "there is no significant difference between single ' or double \"."
   ]
  },
  {
   "cell_type": "code",
   "execution_count": 51,
   "id": "df7a2795",
   "metadata": {},
   "outputs": [
    {
     "name": "stdout",
     "output_type": "stream",
     "text": [
      "Ali Veli Ali's Ali\"s\n",
      "Ali Veli\n"
     ]
    }
   ],
   "source": [
    "name1 = 'Ali'\n",
    "name2 = \"Veli\"\n",
    "name3 = \"Ali's\"\n",
    "name4 = 'Ali\"s'\n",
    "print(name1, name2, name3, name4)\n",
    "print(f\"{name1} {name2}\") #f meaning is format. Its is like $ string for in .net"
   ]
  },
  {
   "cell_type": "markdown",
   "id": "cd751b11",
   "metadata": {},
   "source": [
    "### Inputs"
   ]
  },
  {
   "cell_type": "code",
   "execution_count": null,
   "id": "4f0e8449",
   "metadata": {},
   "outputs": [],
   "source": [
    "name = input('Enter your name:') #if there is a star inside the [lineNumber]. The meaning of that your program\n",
    "#waiting an input to enter https://discourse.jupyter.org/t/input-function-not-working/2290/4\n",
    "print(name)"
   ]
  },
  {
   "cell_type": "markdown",
   "id": "1bb62b25",
   "metadata": {},
   "source": [
    "### Import a library"
   ]
  },
  {
   "cell_type": "code",
   "execution_count": 55,
   "id": "5ff4297f",
   "metadata": {},
   "outputs": [
    {
     "ename": "NameError",
     "evalue": "name 'pi' is not defined",
     "output_type": "error",
     "traceback": [
      "\u001b[0;31m---------------------------------------------------------------------------\u001b[0m",
      "\u001b[0;31mNameError\u001b[0m                                 Traceback (most recent call last)",
      "Input \u001b[0;32mIn [55]\u001b[0m, in \u001b[0;36m<cell line: 1>\u001b[0;34m()\u001b[0m\n\u001b[0;32m----> 1\u001b[0m \u001b[43mpi\u001b[49m\n",
      "\u001b[0;31mNameError\u001b[0m: name 'pi' is not defined"
     ]
    }
   ],
   "source": [
    "pi #we cannot use pi without importing math library"
   ]
  },
  {
   "cell_type": "code",
   "execution_count": 57,
   "id": "32679929",
   "metadata": {},
   "outputs": [
    {
     "data": {
      "text/plain": [
       "3.141592653589793"
      ]
     },
     "execution_count": 57,
     "metadata": {},
     "output_type": "execute_result"
    }
   ],
   "source": [
    "import math;\n",
    "math.pi"
   ]
  }
 ],
 "metadata": {
  "kernelspec": {
   "display_name": "Python 3 (ipykernel)",
   "language": "python",
   "name": "python3"
  },
  "language_info": {
   "codemirror_mode": {
    "name": "ipython",
    "version": 3
   },
   "file_extension": ".py",
   "mimetype": "text/x-python",
   "name": "python",
   "nbconvert_exporter": "python",
   "pygments_lexer": "ipython3",
   "version": "3.9.12"
  }
 },
 "nbformat": 4,
 "nbformat_minor": 5
}
