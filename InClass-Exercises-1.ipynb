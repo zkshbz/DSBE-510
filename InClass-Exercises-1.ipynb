{
 "cells": [
  {
   "cell_type": "code",
   "execution_count": 2,
   "id": "630b31a4",
   "metadata": {},
   "outputs": [
    {
     "name": "stdout",
     "output_type": "stream",
     "text": [
      "            Name                         Department Student Status\n",
      "0        BAHADIR               COMPUTER ENGINEERING          UGRAD\n",
      "1          HAMDİ               COMPUTER ENGINEERING          UGRAD\n",
      "2        HÜSEYİN  ELECTRICAL & COMPUTER ENGINEERING            PHD\n",
      "3            ALİ               COMPUTER ENGINEERING          UGRAD\n",
      "4       ALİ SİNA                     BIOENGINEERING         MASTER\n",
      "5          BEYZA                       DATA SCIENCE         MASTER\n",
      "6          BERAT               COMPUTER ENGINEERING          UGRAD\n",
      "7          YAKUP               COMPUTER ENGINEERING          UGRAD\n",
      "8            NUH                       DATA SCIENCE         MASTER\n",
      "9          KEREM               COMPUTER ENGINEERING          UGRAD\n",
      "10          EMRE               COMPUTER ENGINEERING          UGRAD\n",
      "11     SEVDA NUR             INDUSTRIAL ENGINEERING          UGRAD\n",
      "12       MUSTAFA             INDUSTRIAL ENGINEERING          UGRAD\n",
      "13      İREM GÜL                       DATA SCIENCE         MASTER\n",
      "14       MUSTAFA               COMPUTER ENGINEERING          UGRAD\n",
      "15       BATUKAN               COMPUTER ENGINEERING          UGRAD\n",
      "16   KÜBRA GİZEM                       DATA SCIENCE         MASTER\n",
      "17         BETÜL               COMPUTER ENGINEERING          UGRAD\n",
      "18         FATİH  ELECTRICAL & COMPUTER ENGINEERING         MASTER\n",
      "19    ORKUN ENES               COMPUTER ENGINEERING          UGRAD\n",
      "20       MUSTAFA  ELECTRICAL & COMPUTER ENGINEERING         MASTER\n",
      "21      MUHAMMED               COMPUTER ENGINEERING          UGRAD\n",
      "22      SÜLEYMAN             INDUSTRIAL ENGINEERING         MASTER\n",
      "23          OLGA                       DATA SCIENCE         MASTER\n",
      "24         İZZET  ELECTRICAL & COMPUTER ENGINEERING         MASTER\n",
      "25         İKRAM  ELECTRICAL & COMPUTER ENGINEERING         MASTER\n",
      "26   MEHMET ANIL               COMPUTER ENGINEERING          UGRAD\n",
      "27      SİNA CAN               COMPUTER ENGINEERING          UGRAD\n",
      "28       İBRAHİM  ELECTRICAL & COMPUTER ENGINEERING         MASTER\n",
      "29        SABUHA               COMPUTER ENGINEERING          UGRAD\n",
      "30    YUNUS EMRE               COMPUTER ENGINEERING          UGRAD\n",
      "31         MAHAM                       DATA SCIENCE         MASTER\n",
      "32   ABDURRAHMAN  ELECTRICAL & COMPUTER ENGINEERING         MASTER\n",
      "33        GÖKSEL  ELECTRICAL & COMPUTER ENGINEERING         MASTER\n",
      "34          ARİF  ELECTRICAL & COMPUTER ENGINEERING         MASTER\n",
      "35    MEHMET ALİ                       DATA SCIENCE         MASTER\n",
      "36      MUHAMMET  ELECTRICAL & COMPUTER ENGINEERING         MASTER\n",
      "37  KERİM SERDAR               COMPUTER ENGINEERING          UGRAD\n",
      "38          ZEKİ  ELECTRICAL & COMPUTER ENGINEERING         MASTER\n",
      "39      NURETTİN                       DATA SCIENCE         MASTER\n",
      "40    ATIF KEREM  ELECTRICAL & COMPUTER ENGINEERING         MASTER\n",
      "41         SAMET                       DATA SCIENCE         MASTER\n",
      "42        MELİSA                     BIOENGINEERING         MASTER\n",
      "43         YUSUF               COMPUTER ENGINEERING          UGRAD\n",
      "44      HACERNUR                     BIOENGINEERING         MASTER\n",
      "45        FERHAN                     BIOENGINEERING            PHD\n",
      "46  MEHMET KEMAL                       DATA SCIENCE         MASTER\n"
     ]
    }
   ],
   "source": [
    "import pandas as pd\n",
    "data = pd.read_csv('DSBE510_Student_List.csv')\n",
    "print(data)"
   ]
  },
  {
   "cell_type": "code",
   "execution_count": 4,
   "id": "39f26e85",
   "metadata": {},
   "outputs": [
    {
     "name": "stdout",
     "output_type": "stream",
     "text": [
      "                           Department\n",
      "0                COMPUTER ENGINEERING\n",
      "1                COMPUTER ENGINEERING\n",
      "2   ELECTRICAL & COMPUTER ENGINEERING\n",
      "3                COMPUTER ENGINEERING\n",
      "4                      BIOENGINEERING\n",
      "5                        DATA SCIENCE\n",
      "6                COMPUTER ENGINEERING\n",
      "7                COMPUTER ENGINEERING\n",
      "8                        DATA SCIENCE\n",
      "9                COMPUTER ENGINEERING\n",
      "10               COMPUTER ENGINEERING\n",
      "11             INDUSTRIAL ENGINEERING\n",
      "12             INDUSTRIAL ENGINEERING\n",
      "13                       DATA SCIENCE\n",
      "14               COMPUTER ENGINEERING\n",
      "15               COMPUTER ENGINEERING\n",
      "16                       DATA SCIENCE\n",
      "17               COMPUTER ENGINEERING\n",
      "18  ELECTRICAL & COMPUTER ENGINEERING\n",
      "19               COMPUTER ENGINEERING\n",
      "20  ELECTRICAL & COMPUTER ENGINEERING\n",
      "21               COMPUTER ENGINEERING\n",
      "22             INDUSTRIAL ENGINEERING\n",
      "23                       DATA SCIENCE\n",
      "24  ELECTRICAL & COMPUTER ENGINEERING\n",
      "25  ELECTRICAL & COMPUTER ENGINEERING\n",
      "26               COMPUTER ENGINEERING\n",
      "27               COMPUTER ENGINEERING\n",
      "28  ELECTRICAL & COMPUTER ENGINEERING\n",
      "29               COMPUTER ENGINEERING\n",
      "30               COMPUTER ENGINEERING\n",
      "31                       DATA SCIENCE\n",
      "32  ELECTRICAL & COMPUTER ENGINEERING\n",
      "33  ELECTRICAL & COMPUTER ENGINEERING\n",
      "34  ELECTRICAL & COMPUTER ENGINEERING\n",
      "35                       DATA SCIENCE\n",
      "36  ELECTRICAL & COMPUTER ENGINEERING\n",
      "37               COMPUTER ENGINEERING\n",
      "38  ELECTRICAL & COMPUTER ENGINEERING\n",
      "39                       DATA SCIENCE\n",
      "40  ELECTRICAL & COMPUTER ENGINEERING\n",
      "41                       DATA SCIENCE\n",
      "42                     BIOENGINEERING\n",
      "43               COMPUTER ENGINEERING\n",
      "44                     BIOENGINEERING\n",
      "45                     BIOENGINEERING\n",
      "46                       DATA SCIENCE\n"
     ]
    }
   ],
   "source": [
    "df = pd.read_csv(\"DSBE510_Student_List.csv\", usecols = ['Department'])\n",
    "print(df)\n"
   ]
  },
  {
   "cell_type": "code",
   "execution_count": 9,
   "id": "ab4e2fb6",
   "metadata": {},
   "outputs": [],
   "source": [
    "departmentGroupDf = df.groupby(\"Department\")[\"Department\"].count()"
   ]
  },
  {
   "cell_type": "code",
   "execution_count": 10,
   "id": "5e9a3306",
   "metadata": {},
   "outputs": [
    {
     "data": {
      "text/plain": [
       "Department\n",
       "BIOENGINEERING                        4\n",
       "COMPUTER ENGINEERING                 18\n",
       "DATA SCIENCE                         10\n",
       "ELECTRICAL & COMPUTER ENGINEERING    12\n",
       "INDUSTRIAL ENGINEERING                3\n",
       "Name: Department, dtype: int64"
      ]
     },
     "execution_count": 10,
     "metadata": {},
     "output_type": "execute_result"
    }
   ],
   "source": [
    "departmentGroupDf.head(10)"
   ]
  },
  {
   "cell_type": "code",
   "execution_count": 11,
   "id": "020b6709",
   "metadata": {},
   "outputs": [
    {
     "data": {
      "text/plain": [
       "pandas.core.series.Series"
      ]
     },
     "execution_count": 11,
     "metadata": {},
     "output_type": "execute_result"
    }
   ],
   "source": [
    "type(departmentGroupDf)"
   ]
  },
  {
   "cell_type": "code",
   "execution_count": 23,
   "id": "fbdbbbd9",
   "metadata": {},
   "outputs": [],
   "source": [
    "key = list(departmentGroupDf.index)"
   ]
  },
  {
   "cell_type": "code",
   "execution_count": 24,
   "id": "10296b40",
   "metadata": {},
   "outputs": [],
   "source": [
    "value = list(departmentGroupDf.values)"
   ]
  },
  {
   "cell_type": "code",
   "execution_count": 25,
   "id": "f44c0e8c",
   "metadata": {},
   "outputs": [
    {
     "data": {
      "text/plain": [
       "['BIOENGINEERING',\n",
       " 'COMPUTER ENGINEERING',\n",
       " 'DATA SCIENCE',\n",
       " 'ELECTRICAL & COMPUTER ENGINEERING',\n",
       " 'INDUSTRIAL ENGINEERING']"
      ]
     },
     "execution_count": 25,
     "metadata": {},
     "output_type": "execute_result"
    }
   ],
   "source": [
    "key"
   ]
  },
  {
   "cell_type": "code",
   "execution_count": 27,
   "id": "1297d854",
   "metadata": {},
   "outputs": [],
   "source": [
    "import matplotlib.pyplot as plt\n"
   ]
  },
  {
   "cell_type": "code",
   "execution_count": null,
   "id": "aa7d0d62",
   "metadata": {},
   "outputs": [],
   "source": [
    "fig = plt.figure(figsize = (10, 5))\n",
    " \n",
    "plt.bar(key, values, color ='maroon',\n",
    "        width = 0.4)\n",
    " "
   ]
  }
 ],
 "metadata": {
  "kernelspec": {
   "display_name": "Python 3 (ipykernel)",
   "language": "python",
   "name": "python3"
  },
  "language_info": {
   "codemirror_mode": {
    "name": "ipython",
    "version": 3
   },
   "file_extension": ".py",
   "mimetype": "text/x-python",
   "name": "python",
   "nbconvert_exporter": "python",
   "pygments_lexer": "ipython3",
   "version": "3.9.13"
  }
 },
 "nbformat": 4,
 "nbformat_minor": 5
}
