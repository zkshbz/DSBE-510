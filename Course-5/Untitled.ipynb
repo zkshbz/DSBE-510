{
 "cells": [
  {
   "cell_type": "markdown",
   "id": "2e403e5d",
   "metadata": {},
   "source": [
    "## NumPy(numerical python)\n",
    "\n",
    "In this course, we will learn what is the NumPy Library. How to install. \n",
    "\n",
    "Before installing library, we should create a new developing environment in anaconda navigator. Just add this library that environment not base-environment as a best practice. \n",
    "\n",
    "Creating new empty library from envrionments menu. And then, adding notebook and numpy librarires from Conda that is package manager for Python and R especially data science. "
   ]
  },
  {
   "cell_type": "code",
   "execution_count": 5,
   "id": "349032ac",
   "metadata": {},
   "outputs": [],
   "source": [
    "import numpy as np"
   ]
  },
  {
   "cell_type": "code",
   "execution_count": null,
   "id": "9e7e50e7",
   "metadata": {},
   "outputs": [],
   "source": []
  },
  {
   "cell_type": "code",
   "execution_count": null,
   "id": "f38d297d",
   "metadata": {},
   "outputs": [],
   "source": []
  }
 ],
 "metadata": {
  "kernelspec": {
   "display_name": "Python 3 (ipykernel)",
   "language": "python",
   "name": "python3"
  },
  "language_info": {
   "codemirror_mode": {
    "name": "ipython",
    "version": 3
   },
   "file_extension": ".py",
   "mimetype": "text/x-python",
   "name": "python",
   "nbconvert_exporter": "python",
   "pygments_lexer": "ipython3",
   "version": "3.9.13"
  }
 },
 "nbformat": 4,
 "nbformat_minor": 5
}
