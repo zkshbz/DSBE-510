{
 "cells": [
  {
   "cell_type": "markdown",
   "id": "fdc5542a",
   "metadata": {},
   "source": [
    "## Compound Data Types"
   ]
  },
  {
   "cell_type": "markdown",
   "id": "72d33b84",
   "metadata": {},
   "source": [
    "### Lists"
   ]
  },
  {
   "cell_type": "code",
   "execution_count": 2,
   "id": "4d84287a",
   "metadata": {},
   "outputs": [
    {
     "name": "stdout",
     "output_type": "stream",
     "text": [
      "[1, 3, 5, 7, 9]\n",
      "<class 'list'>\n",
      "5\n"
     ]
    }
   ],
   "source": [
    "intList = [1,3,5,7,9];\n",
    "print(intList);\n",
    "print(type(intList));\n",
    "print(len(intList));"
   ]
  },
  {
   "cell_type": "code",
   "execution_count": 49,
   "id": "1df54c21",
   "metadata": {},
   "outputs": [
    {
     "name": "stdout",
     "output_type": "stream",
     "text": [
      "[0, 2, 4, 6, 8]\n"
     ]
    }
   ],
   "source": [
    "# Even numbers between 0-10\n",
    "\n",
    "evenNumbers0to10 = list(range(0,10,2)); #start value, end value, increasing value (end value not included)\n",
    "print(evenNumbers0to10);"
   ]
  },
  {
   "cell_type": "code",
   "execution_count": 47,
   "id": "db08f5ae",
   "metadata": {
    "scrolled": true
   },
   "outputs": [
    {
     "name": "stdout",
     "output_type": "stream",
     "text": [
      "[1, 3, 5, 7, 9, 11, 13, 15, 17, 19, 21, 23, 25, 27, 29, 31, 33, 35, 37, 39, 41, 43, 45, 47, 49, 51, 53, 55, 57, 59, 61, 63, 65, 67, 69, 71, 73, 75, 77, 79, 81, 83, 85, 87, 89, 91, 93, 95, 97, 99, 101]\n"
     ]
    }
   ],
   "source": [
    "# Odd numbers until 101 included \n",
    "\n",
    "oddNumbers0to101 = list(range(1,103,2));\n",
    "print(oddNumbers0to101);"
   ]
  },
  {
   "cell_type": "code",
   "execution_count": 13,
   "id": "f061afe4",
   "metadata": {},
   "outputs": [
    {
     "name": "stdout",
     "output_type": "stream",
     "text": [
      "[1, 3, 5, 7, 9, 11, 13, 15, 17, 19, 21, 23, 25, 27, 29, 31, 33, 35, 37, 39, 41, 43, 45, 47, 49, 51, 53, 55, 57, 59, 61, 63, 65, 67, 69, 71, 73, 75, 77, 79, 81, 83, 85, 87, 89, 91, 93, 95, 97, 99, 101]\n",
      "1\n",
      "3\n",
      "101\n",
      "[1, 3]\n",
      "[5, 7, 9, 11, 13, 15, 17, 19, 21, 23, 25, 27, 29, 31, 33, 35, 37, 39, 41, 43, 45, 47, 49, 51, 53, 55, 57, 59, 61, 63, 65, 67, 69, 71, 73, 75, 77, 79, 81, 83, 85, 87, 89, 91, 93, 95, 97, 99, 101]\n"
     ]
    }
   ],
   "source": [
    "# In python, starting index is \"0\"\n",
    "\n",
    "print(oddNumbers0to101);\n",
    "print(oddNumbers0to101[0]);\n",
    "print(oddNumbers0to101[1]);\n",
    "print(oddNumbers0to101[len(oddNumbers0to101) - 1]);\n",
    "print(oddNumbers0to101[:2]); # last one 2nd index exclusive\n",
    "print(oddNumbers0to101[2:]); # first one 2nd index inclusive\n",
    "\n"
   ]
  },
  {
   "cell_type": "code",
   "execution_count": 16,
   "id": "c8e46015",
   "metadata": {},
   "outputs": [
    {
     "name": "stdout",
     "output_type": "stream",
     "text": [
      "[1, 3, 5, 7, 9, 11, 13, 15, 17, 19, 21, 23, 25, 27, 29, 31, 33, 35, 37, 39, 41, 43, 45, 47, 49, 51, 53, 55, 57, 59, 61, 63, 65, 67, 69, 71, 73, 75, 77, 79, 81, 83, 85, 87, 89, 91, 93, 95, 97, 99, 101, 103]\n",
      "103\n",
      "[1, 3, 5, 7, 9, 11, 13, 15, 17, 19, 21, 23, 25, 27, 29, 31, 33, 35, 37, 39, 41, 43, 45, 47, 49, 51, 53, 55, 57, 59, 61, 63, 65, 67, 69, 71, 73, 75, 77, 79, 81, 83, 85, 87, 89, 91, 93, 95, 97, 99, 101]\n",
      "[1, 3, 5, 7, 9, 11, 13, 15, 17, 19, 21, 23, 25, 27, 29, 31, 33, 35, 37, 39, 41, 43, 45, 47, 49, 51, 53, 55, 57, 59, 61, 63, 65, 67, 69, 71, 73, 75, 77, 79, 81, 83, 85, 87, 89, 91, 93, 95, 97, 99, 101, 103, 105]\n",
      "[1, 3, 5, 7, 9, 11, 13, 15, 17, 19, 21, 23, 25, 27, 29, 31, 33, 35, 37, 39, 41, 43, 45, 47, 49, 51, 53, 55, 57, 59, 61, 63, 65, 67, 69, 71, 73, 75, 77, 79, 81, 83, 85, 87, 89, 91, 93, 95, 97, 99, 101, 1, 3, 5, 7, 9, 11, 13, 15, 17, 19, 21, 23, 25, 27, 29, 31, 33, 35, 37, 39, 41, 43, 45, 47, 49, 51, 53, 55, 57, 59, 61, 63, 65, 67, 69, 71, 73, 75, 77, 79, 81, 83, 85, 87, 89, 91, 93, 95, 97, 99, 101]\n"
     ]
    }
   ],
   "source": [
    "oddNumbers0to101.append(103); #Adding 103 add to end of the list\n",
    "print(oddNumbers0to101);\n",
    "print(oddNumbers0to101.pop()); # Remove last element end return that element\n",
    "print(oddNumbers0to101);\n",
    "print(oddNumbers0to101 + [103, 105]); # Mergin two list\n",
    "print(oddNumbers0to101*2) # Doubled or multiply with 2 repeat"
   ]
  },
  {
   "cell_type": "code",
   "execution_count": 29,
   "id": "4f1ea0b0",
   "metadata": {},
   "outputs": [
    {
     "name": "stdout",
     "output_type": "stream",
     "text": [
      "[222, 1, 3, 5, 7, 9, 11, 13, 15, 17, 19, 21, 23, 25, 27, 29, 31, 33, 35, 37, 39, 41, 43, 45, 47, 49, 51, 53, 55, 57, 59, 61, 63, 65, 67, 69, 71, 73, 75, 77, 79, 81, 83, 85, 87, 89, 91, 93, 95, 97, 99, 101, 222, 222]\n"
     ]
    }
   ],
   "source": [
    "oddNumbers0to101.insert(0,222); # index: 0, value: 222. Insert value specific index\n",
    "print(oddNumbers0to101);"
   ]
  },
  {
   "cell_type": "code",
   "execution_count": 23,
   "id": "7e108042",
   "metadata": {},
   "outputs": [
    {
     "name": "stdout",
     "output_type": "stream",
     "text": [
      "[0, 2, 4, 6, 8]\n",
      "[222, 222, 1, 3, 5, 7, 9, 11, 13, 15, 17, 19, 21, 23, 25, 27, 29, 31, 33, 35, 37, 39, 41, 43, 45, 47, 49, 51, 53, 55, 57, 59, 61, 63, 65, 67, 69, 71, 73, 75, 77, 79, 81, 83, 85, 87, 89, 91, 93, 95, 97, 99, 101]\n"
     ]
    }
   ],
   "source": [
    "print(evenNumbers0to10);\n",
    "print(oddNumbers0to101);"
   ]
  },
  {
   "cell_type": "code",
   "execution_count": 50,
   "id": "3e2a4374",
   "metadata": {},
   "outputs": [
    {
     "name": "stdout",
     "output_type": "stream",
     "text": [
      "[0, 2, 4, 6, 8, 0, 2, 4, 6, 8]\n",
      "[0, 2, 4, 6, 8, 0, 2, 4, 6, 8, [...]]\n"
     ]
    }
   ],
   "source": [
    "evenNumbers0to10.extend(evenNumbers0to10); # Adding items in the array to list\n",
    "print(evenNumbers0to10);\n",
    "evenNumbers0to10.append(evenNumbers0to10); # Adding as a array in the list\n",
    "print(evenNumbers0to10);\n",
    "\n"
   ]
  },
  {
   "cell_type": "code",
   "execution_count": 56,
   "id": "5408cc5b",
   "metadata": {},
   "outputs": [
    {
     "name": "stdout",
     "output_type": "stream",
     "text": [
      "[1, 3, 5, 7, 9, 11, 13, 15, 17, 19, 21, 23, 25, 27, 29, 31, 33, 35, 37, 39, 41, 43, 45, 47, 49, 51, 53, 55, 57, 59, 61, 63, 65, 67, 69, 71, 73, 75, 77, 79, 81, 83, 85, 87, 89, 91, 93, 95, 97, 99, 101]\n",
      "[101, 99, 97, 95, 93, 91, 89, 87, 85, 83, 81, 79, 77, 75, 73, 71, 69, 67, 65, 63, 61, 59, 57, 55, 53, 51, 49, 47, 45, 43, 41, 39, 37, 35, 33, 31, 29, 27, 25, 23, 21, 19, 17, 15, 13, 11, 9, 7, 5, 3, 1]\n",
      "[1, 3, 5, 7, 9, 11, 13, 15, 17, 19, 21, 23, 25, 27, 29, 31, 33, 35, 37, 39, 41, 43, 45, 47, 49, 51, 53, 55, 57, 59, 61, 63, 65, 67, 69, 71, 73, 75, 77, 79, 81, 83, 85, 87, 89, 91, 93, 95, 97, 99, 101]\n"
     ]
    }
   ],
   "source": [
    "oddNumbers0to101.sort(reverse = False); # sort element in descending order\n",
    "print(oddNumbers0to101);\n",
    "\n",
    "oddNumbers0to101.sort(reverse = True); # sort element in ascending order\n",
    "print(oddNumbers0to101) \n",
    "\n",
    "oddNumbers0to101.sort() \n",
    "print(oddNumbers0to101) # sort element in ascending order\n"
   ]
  },
  {
   "cell_type": "code",
   "execution_count": 30,
   "id": "74e3ecd8",
   "metadata": {},
   "outputs": [
    {
     "name": "stdout",
     "output_type": "stream",
     "text": [
      "1\n"
     ]
    }
   ],
   "source": [
    "str = \"Python\";\n",
    "mylist = [str];\n",
    "print(len(mylist));"
   ]
  },
  {
   "cell_type": "code",
   "execution_count": 31,
   "id": "b7d51e84",
   "metadata": {},
   "outputs": [
    {
     "name": "stdout",
     "output_type": "stream",
     "text": [
      "Variable           Type    Data/Info\n",
      "------------------------------------\n",
      "evenNumbers0to10   list    n=7\n",
      "intList            list    n=5\n",
      "mylist             list    n=1\n",
      "oddNumbers0to101   list    n=54\n",
      "str                str     Python\n"
     ]
    }
   ],
   "source": [
    "whos"
   ]
  },
  {
   "cell_type": "code",
   "execution_count": 34,
   "id": "9e81bd84",
   "metadata": {},
   "outputs": [
    {
     "name": "stdout",
     "output_type": "stream",
     "text": [
      "yt\n"
     ]
    }
   ],
   "source": [
    "print(mylist[0][1:3]) # 3 is exclusive, it should return yt"
   ]
  },
  {
   "cell_type": "code",
   "execution_count": 39,
   "id": "27fd7558",
   "metadata": {},
   "outputs": [
    {
     "name": "stdout",
     "output_type": "stream",
     "text": [
      "False\n",
      "Code\n",
      "['Python', 'Code']\n",
      "['Code', 'Code', 'too', 'too']\n",
      "Python Code Code Code too too too\n",
      "['Python', 'Code', 'Code', 'too', 'too', 'too']\n"
     ]
    }
   ],
   "source": [
    "mylist.insert(1,\"Code\");\n",
    "print(\"list\" in mylist);\n",
    "print(mylist[1]);\n",
    "print(mylist[:2]);\n",
    "print(mylist[2:]);\n",
    "mylist.append(\"too\");\n",
    "\n",
    "seperator = \" \";\n",
    "print(seperator.join(mylist)) # merge all elements of the list into a string\n",
    "\n",
    "mylist.remove(\"Code\"); #remove element from list\n",
    "print(mylist);"
   ]
  },
  {
   "cell_type": "code",
   "execution_count": null,
   "id": "5c2087ac",
   "metadata": {},
   "outputs": [],
   "source": []
  }
 ],
 "metadata": {
  "kernelspec": {
   "display_name": "Python 3 (ipykernel)",
   "language": "python",
   "name": "python3"
  },
  "language_info": {
   "codemirror_mode": {
    "name": "ipython",
    "version": 3
   },
   "file_extension": ".py",
   "mimetype": "text/x-python",
   "name": "python",
   "nbconvert_exporter": "python",
   "pygments_lexer": "ipython3",
   "version": "3.9.12"
  }
 },
 "nbformat": 4,
 "nbformat_minor": 5
}
