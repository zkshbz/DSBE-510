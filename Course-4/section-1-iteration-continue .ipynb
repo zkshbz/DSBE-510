{
 "cells": [
  {
   "cell_type": "markdown",
   "id": "d2314fb0",
   "metadata": {},
   "source": [
    "## Counting and Summing Loops"
   ]
  },
  {
   "cell_type": "markdown",
   "id": "57a63641",
   "metadata": {},
   "source": [
    "### for-in operator"
   ]
  },
  {
   "cell_type": "code",
   "execution_count": null,
   "id": "c62a2613",
   "metadata": {},
   "outputs": [],
   "source": [
    "# Find the length of an array\n",
    "\n",
    "count = 0;\n",
    "numberList = [1,2,3,4,5];\n",
    "\n",
    "for item in numberList:\n",
    "    count += 1;\n",
    "\n",
    "print(f\"Count: {count}\");    "
   ]
  },
  {
   "cell_type": "code",
   "execution_count": null,
   "id": "0f3058ed",
   "metadata": {},
   "outputs": [],
   "source": [
    "# Calculate array average value \n",
    "\n",
    "count = 0; \n",
    "total = 0;\n",
    "numberList = [1,2,3,4,5,6];\n",
    "\n",
    "for item in numberList:\n",
    "    count += 1;\n",
    "    total += item;\n",
    "\n",
    "print(f\"Total of array: {total}, length of array: {count}, average of array: {total / count}\");    "
   ]
  },
  {
   "cell_type": "markdown",
   "id": "8ea7fa00",
   "metadata": {},
   "source": [
    "## Maximum and minimum loops"
   ]
  },
  {
   "cell_type": "code",
   "execution_count": null,
   "id": "760ee5a2",
   "metadata": {},
   "outputs": [],
   "source": [
    "# finding maximum value of an array\n",
    "\n",
    "largest = None;\n",
    "print(\"Before:\", largest)\n",
    "numberList = [2,342,32,234,2,4,2];\n",
    "\n",
    "for item in numberList:\n",
    "    if(largest < item):\n",
    "        largest = item;\n",
    "\n",
    "print(f\"Largest value of array: {largest}\");"
   ]
  },
  {
   "cell_type": "code",
   "execution_count": null,
   "id": "f4b750ab",
   "metadata": {},
   "outputs": [],
   "source": [
    "# Upper code, in none values we cannot use conditional operator so we need to modify our code\n",
    "\n",
    "largest = None;\n",
    "print(\"Before:\", largest)\n",
    "numberList = [2,342,32,234,2,4,2];\n",
    "\n",
    "for item in numberList:\n",
    "    if(largest is None or largest < item): # Logical operations are checked from left to right... \n",
    "        largest = item;\n",
    "\n",
    "print(f\"Largest value of array: {largest}\");"
   ]
  }
 ],
 "metadata": {
  "kernelspec": {
   "display_name": "Python 3 (ipykernel)",
   "language": "python",
   "name": "python3"
  },
  "language_info": {
   "codemirror_mode": {
    "name": "ipython",
    "version": 3
   },
   "file_extension": ".py",
   "mimetype": "text/x-python",
   "name": "python",
   "nbconvert_exporter": "python",
   "pygments_lexer": "ipython3",
   "version": "3.9.12"
  }
 },
 "nbformat": 4,
 "nbformat_minor": 5
}
