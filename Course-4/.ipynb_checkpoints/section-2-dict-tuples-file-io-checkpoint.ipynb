{
 "cells": [
  {
   "cell_type": "markdown",
   "id": "78f1ba93",
   "metadata": {},
   "source": [
    "## Dictionary"
   ]
  },
  {
   "cell_type": "code",
   "execution_count": 3,
   "id": "234823da",
   "metadata": {},
   "outputs": [
    {
     "name": "stdout",
     "output_type": "stream",
     "text": [
      "{'Tr': 'Türkiye'}\n"
     ]
    }
   ],
   "source": [
    "abbrev = {}\n",
    "abbrev['Tr'] = \"Türkiye\";\n",
    "print(abbrev);"
   ]
  },
  {
   "cell_type": "code",
   "execution_count": 5,
   "id": "6ccd47a8",
   "metadata": {},
   "outputs": [
    {
     "name": "stdout",
     "output_type": "stream",
     "text": [
      "{'apple': 1, 'orange': 2, 'banana': 3}\n",
      "['apple', 'banana', 'orange']\n"
     ]
    }
   ],
   "source": [
    "keys = ['apple', 'orange', 'banana'];\n",
    "values = [1,2,3];\n",
    "fruits = dict(zip(keys,values));\n",
    "print(fruits);\n",
    "print(sorted(fruits)); # sorted key variables"
   ]
  },
  {
   "cell_type": "code",
   "execution_count": 7,
   "id": "c6500814",
   "metadata": {},
   "outputs": [
    {
     "data": {
      "text/plain": [
       "<function dict.items>"
      ]
     },
     "execution_count": 7,
     "metadata": {},
     "output_type": "execute_result"
    }
   ],
   "source": [
    "fruits.items"
   ]
  },
  {
   "cell_type": "code",
   "execution_count": 8,
   "id": "6ec4cbe0",
   "metadata": {},
   "outputs": [
    {
     "name": "stdout",
     "output_type": "stream",
     "text": [
      "[('apple', 1), ('banana', 3), ('orange', 2)]\n",
      "[('apple', 1), ('orange', 2), ('banana', 3)]\n"
     ]
    }
   ],
   "source": [
    "from operator import itemgetter;\n",
    "print(sorted(fruits.items(), key = itemgetter(0))); # sort by key\n",
    "print(sorted(fruits.items(), key = itemgetter(1))); # sort by value"
   ]
  },
  {
   "cell_type": "markdown",
   "id": "366ae473",
   "metadata": {},
   "source": [
    "## Tuples"
   ]
  },
  {
   "cell_type": "code",
   "execution_count": 9,
   "id": "26731d8d",
   "metadata": {},
   "outputs": [
    {
     "name": "stdout",
     "output_type": "stream",
     "text": [
      "('TR', 'Türkiye', 'Türkçe')\n",
      "<class 'tuple'>\n",
      "('Türkiye', 'Türkçe')\n"
     ]
    }
   ],
   "source": [
    "TrTuple = ('TR', 'Türkiye', 'Türkçe');\n",
    "print(TrTuple);\n",
    "print(type(TrTuple));\n",
    "print(TrTuple[1:]);"
   ]
  },
  {
   "cell_type": "code",
   "execution_count": 35,
   "id": "cdb2544b",
   "metadata": {},
   "outputs": [
    {
     "name": "stdout",
     "output_type": "stream",
     "text": [
      "<class 'list'>\n",
      "2\n",
      "('England', 'English')\n"
     ]
    }
   ],
   "source": [
    "EnTuple = ('EN', 'England', 'English');\n",
    "countries = [TrTuple, EnTuple];\n",
    "print(type(countries));\n",
    "print(len(countries));\n",
    "print(countries[1][1:]);"
   ]
  },
  {
   "cell_type": "code",
   "execution_count": 49,
   "id": "d822ac13",
   "metadata": {},
   "outputs": [
    {
     "name": "stdout",
     "output_type": "stream",
     "text": [
      "[('TR', 'Türkiye', 'Türkçe'), ('EN', 'England', 'English')]\n"
     ]
    }
   ],
   "source": [
    "countries.sort(key = lambda tup:tup[2], reverse = True); # Sort the countries by their language\n",
    "print(countries);"
   ]
  },
  {
   "cell_type": "markdown",
   "id": "8539c0b7",
   "metadata": {},
   "source": [
    "**Note** : Tuples is immutable. They cannot be modified after creation."
   ]
  },
  {
   "cell_type": "code",
   "execution_count": 45,
   "id": "fc4bb076",
   "metadata": {},
   "outputs": [
    {
     "name": "stdout",
     "output_type": "stream",
     "text": [
      "1\n"
     ]
    }
   ],
   "source": [
    "print(EnTuple.count('England'));"
   ]
  },
  {
   "cell_type": "markdown",
   "id": "8b2c61b7",
   "metadata": {},
   "source": [
    "## Control Flow Statements"
   ]
  },
  {
   "cell_type": "code",
   "execution_count": 52,
   "id": "d2b04722",
   "metadata": {},
   "outputs": [
    {
     "name": "stdout",
     "output_type": "stream",
     "text": [
      "Axydefge\n",
      "Abcdefge\n"
     ]
    }
   ],
   "source": [
    "someString = \"Abcdefge\";\n",
    "newString = someString.replace('bc', 'xy'); \n",
    "print(newString);\n",
    "print(someString);"
   ]
  },
  {
   "cell_type": "code",
   "execution_count": 53,
   "id": "15d16db0",
   "metadata": {},
   "outputs": [
    {
     "name": "stdout",
     "output_type": "stream",
     "text": [
      "that\n",
      "this\n",
      "at\n",
      "is\n",
      "a\n",
      "a\n",
      "latt\n",
      "list\n"
     ]
    }
   ],
   "source": [
    "myList = ['this', 'is', 'a', 'list'];\n",
    "\n",
    "for word in myList:\n",
    "    print(word.replace('is','at'));\n",
    "    print(word)\n"
   ]
  },
  {
   "cell_type": "markdown",
   "id": "44c00e96",
   "metadata": {},
   "source": [
    "**Note:** Replace function not change in memory. Change actual value"
   ]
  },
  {
   "cell_type": "code",
   "execution_count": 58,
   "id": "f1ee2c33",
   "metadata": {},
   "outputs": [
    {
     "name": "stdout",
     "output_type": "stream",
     "text": [
      "['Michigan', 'California']\n",
      "['California', 'Michigan']\n"
     ]
    }
   ],
   "source": [
    "states = [('MI', 'Michigan'), ('CA', 'California')];\n",
    "capitals = [states[1] for states in states]; #Tuple in list \n",
    "print(capitals)\n",
    "\n",
    "capitals.sort();\n",
    "print(capitals);"
   ]
  },
  {
   "cell_type": "markdown",
   "id": "cdd0f11c",
   "metadata": {},
   "source": [
    "## File I/0"
   ]
  },
  {
   "cell_type": "code",
   "execution_count": 67,
   "id": "bbf33f73",
   "metadata": {},
   "outputs": [
    {
     "name": "stdout",
     "output_type": "stream",
     "text": [
      "<_io.TextIOWrapper name='output.txt' mode='w' encoding='UTF-8'>\n",
      "<_io.TextIOWrapper name='output.txt' mode='w' encoding='UTF-8'>\n",
      "Hello, World! \n",
      "\n"
     ]
    }
   ],
   "source": [
    "fout = open('output.txt', 'w'); #w meaning is writing\n",
    "print(fout);\n",
    "line1 = \"Hello, World! \\n\";\n",
    "fout.write(line1);\n",
    "print(fout);\n",
    "fout.close();\n",
    "\n",
    "\n",
    "fread = open('output.txt');\n",
    "allFile = fread.read();\n",
    "print(allFile[:]);"
   ]
  }
 ],
 "metadata": {
  "kernelspec": {
   "display_name": "Python 3 (ipykernel)",
   "language": "python",
   "name": "python3"
  },
  "language_info": {
   "codemirror_mode": {
    "name": "ipython",
    "version": 3
   },
   "file_extension": ".py",
   "mimetype": "text/x-python",
   "name": "python",
   "nbconvert_exporter": "python",
   "pygments_lexer": "ipython3",
   "version": "3.9.12"
  }
 },
 "nbformat": 4,
 "nbformat_minor": 5
}
