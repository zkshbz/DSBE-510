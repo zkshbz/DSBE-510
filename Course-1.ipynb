{
 "cells": [
  {
   "cell_type": "markdown",
   "id": "65b0f68b",
   "metadata": {},
   "source": [
    "First Code With Button "
   ]
  },
  {
   "cell_type": "code",
   "execution_count": 2,
   "id": "5dc242c9",
   "metadata": {
    "scrolled": false
   },
   "outputs": [
    {
     "name": "stdout",
     "output_type": "stream",
     "text": [
      "Hello Anaconda\n"
     ]
    }
   ],
   "source": [
    "print('Hello Anaconda')"
   ]
  },
  {
   "cell_type": "markdown",
   "id": "5fd86a38",
   "metadata": {},
   "source": [
    "a = 2"
   ]
  },
  {
   "cell_type": "markdown",
   "id": "da6e190f",
   "metadata": {},
   "source": [
    " # 1) HEADİNGS\n"
   ]
  },
  {
   "cell_type": "markdown",
   "id": "ba38d5aa",
   "metadata": {},
   "source": [
    "## HEADING 2\n",
    "### HEADING 3\n",
    "#### HEADING 4\n",
    "##### HEADING 5"
   ]
  },
  {
   "cell_type": "code",
   "execution_count": 7,
   "id": "f00722fd",
   "metadata": {},
   "outputs": [
    {
     "name": "stdout",
     "output_type": "stream",
     "text": [
      "5\n"
     ]
    }
   ],
   "source": [
    " a = 2 + 3\n",
    " print(a)"
   ]
  },
  {
   "cell_type": "markdown",
   "id": "e44ff0e3",
   "metadata": {},
   "source": [
    "*Italic part*"
   ]
  },
  {
   "cell_type": "markdown",
   "id": "f5c88ee8",
   "metadata": {},
   "source": [
    "__Bold Sentence__"
   ]
  },
  {
   "cell_type": "markdown",
   "id": "21c979e0",
   "metadata": {},
   "source": [
    "_**Bold and Italic**_"
   ]
  }
 ],
 "metadata": {
  "kernelspec": {
   "display_name": "Python 3 (ipykernel)",
   "language": "python",
   "name": "python3"
  },
  "language_info": {
   "codemirror_mode": {
    "name": "ipython",
    "version": 3
   },
   "file_extension": ".py",
   "mimetype": "text/x-python",
   "name": "python",
   "nbconvert_exporter": "python",
   "pygments_lexer": "ipython3",
   "version": "3.9.12"
  }
 },
 "nbformat": 4,
 "nbformat_minor": 5
}
